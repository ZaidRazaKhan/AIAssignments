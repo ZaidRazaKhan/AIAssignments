{
 "cells": [
  {
   "cell_type": "code",
   "execution_count": 8,
   "metadata": {},
   "outputs": [],
   "source": [
    "import cv2\n",
    "import time\n",
    "import numpy as np\n",
    "import matplotlib.pyplot as plt\n",
    "import os\n",
    "from kalman_filter import kalman_filter"
   ]
  },
  {
   "cell_type": "code",
   "execution_count": 9,
   "metadata": {},
   "outputs": [],
   "source": [
    "direc = \"dataset/\"\n",
    "files = sorted(os.listdir(direc))\n",
    "images = [direc + file for file in files]"
   ]
  },
  {
   "cell_type": "code",
   "execution_count": 10,
   "metadata": {},
   "outputs": [],
   "source": [
    "# initialise for kalman filter parameters\n",
    "A = np.array([[1, 0],[0, 1]])\n",
    "B = np.zeros_like(A)\n",
    "H = np.array([[1,0],[0,1]])\n",
    "P = np.array([[100, 0],[0, 100]])\n",
    "# P = np.array([[0, 0],[0, 0]])\n",
    "Q = np.zeros_like(P)\n",
    "R = np.array([[15, 0],[0, 15]])\n",
    "xo = np.array([[365],[615]])\n",
    "filter  = kalman_filter(A, B, H, P, Q, R, xo)"
   ]
  },
  {
   "cell_type": "code",
   "execution_count": 11,
   "metadata": {},
   "outputs": [],
   "source": [
    "S_est = [[] for _ in range(xo.shape[0])]\n",
    "S_mea = [[] for _ in range(xo.shape[0])]"
   ]
  },
  {
   "cell_type": "code",
   "execution_count": 14,
   "metadata": {},
   "outputs": [
    {
     "name": "stderr",
     "output_type": "stream",
     "text": [
      "/home/zaid/workspace/computer-vision-assignment/venv/lib/python3.7/site-packages/ipykernel_launcher.py:38: DeprecationWarning: np.asscalar(a) is deprecated since NumPy v1.16, use a.item() instead\n"
     ]
    }
   ],
   "source": [
    "for i in range(len(images)):\n",
    "    try:\n",
    "        frame2 = cv2.imread(images[i+1])\n",
    "        frame1 = cv2.imread(images[i])\n",
    "        diff = cv2.absdiff(frame2, frame1)\n",
    "        gray = cv2.cvtColor(diff, cv2.COLOR_BGR2GRAY)\n",
    "        blur = cv2.GaussianBlur(gray, (5,5), 0)\n",
    "\n",
    "        _, thresh = cv2.threshold(blur, 20, 255, cv2.THRESH_BINARY)\n",
    "        kernel = cv2.getStructuringElement(cv2.MORPH_ELLIPSE, (7,7))\n",
    "        dilated = cv2.dilate(thresh, kernel, iterations=10)\n",
    "        eroded = cv2.erode(dilated, None, iterations=10)\n",
    "\n",
    "        contours, _ = cv2.findContours(eroded, cv2.RETR_TREE, cv2.CHAIN_APPROX_SIMPLE)\n",
    "\n",
    "        #Get centroid of the rectangular box\n",
    "        if len(contours) != 0:\n",
    "            (x, y, w, h) = cv2.boundingRect(contours[0])\n",
    "            cv2.rectangle(frame1, (x, y), (x+w, y+h), (0, 255, 0), 2)\n",
    "            M = cv2.moments(contours[0])\n",
    "            cx = int(M['m10']/M['m00'])\n",
    "            cy = int(M['m01']/M['m00'])\n",
    "            S_mea[0].append(cx)\n",
    "            S_mea[1].append(cy)\n",
    "            # print('[', cx, ' ,' , cy, ']')\n",
    "\n",
    "        # Display the image stream with rectangular box on tracked object\n",
    "        cv2.imshow('test video', frame1)\n",
    "        if cv2.waitKey(1) & 0xFF == ord('q'):\n",
    "            break\n",
    "#         time.sleep(0.01)\n",
    "\n",
    "        # Implement Kalman Filter\n",
    "        Z = np.array([[cx],[cy]])               # Observations/Measurements\n",
    "        state = filter.estimate_state(Z, u = np.zeros_like(Z))\n",
    "        # Store the estimated x and y for plot\n",
    "        for i in range(xo.shape[0]):\n",
    "            S_est[i].append(np.asscalar(state[i]))\n",
    "\n",
    "    except:\n",
    "        break\n",
    "# cv2.destroyAllWindows()"
   ]
  },
  {
   "cell_type": "code",
   "execution_count": 6,
   "metadata": {},
   "outputs": [
    {
     "data": {
      "image/png": "[encoded data removed]",
      "text/plain": [
       "<Figure size 432x288 with 1 Axes>"
      ]
     },
     "metadata": {
      "needs_background": "light"
     },
     "output_type": "display_data"
    }
   ],
   "source": [
    "t = list(range(len(S_mea[0])))\n",
    "\n",
    "\n",
    "i = 0\n",
    "\n",
    "plt.plot(t, S_mea[i], '*', t, S_est[i], 'o')\n",
    "plt.xlabel('X-axis')\n",
    "plt.ylabel('Y-label')\n",
    "plt.title('Trajectory')\n",
    "plt.legend(['Measured value', 'Estimated value'], loc='upper right')\n",
    "plt.show()"
   ]
  },
  {
   "cell_type": "code",
   "execution_count": null,
   "metadata": {},
   "outputs": [],
   "source": []
  }
 ],
 "metadata": {
  "kernelspec": {
   "display_name": "Python 3",
   "language": "python",
   "name": "python3"
  },
  "language_info": {
   "codemirror_mode": {
    "name": "ipython",
    "version": 3
   },
   "file_extension": ".py",
   "mimetype": "text/x-python",
   "name": "python",
   "nbconvert_exporter": "python",
   "pygments_lexer": "ipython3",
   "version": "3.7.5"
  }
 },
 "nbformat": 4,
 "nbformat_minor": 4
}
